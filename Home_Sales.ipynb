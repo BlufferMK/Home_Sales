{
  "cells": [
    {
      "cell_type": "code",
      "execution_count": 31,
      "metadata": {
        "colab": {
          "base_uri": "https://localhost:8080/"
        },
        "id": "a_KW73O2e3dw",
        "outputId": "2be7055a-edc8-4ce9-95b2-228e6138764b"
      },
      "outputs": [
        {
          "output_type": "stream",
          "name": "stdout",
          "text": [
            "Requirement already satisfied: pyspark in /usr/local/lib/python3.10/dist-packages (3.5.1)\n",
            "Requirement already satisfied: py4j in /usr/local/lib/python3.10/dist-packages (0.10.9.7)\n",
            "Requirement already satisfied: findspark in /usr/local/lib/python3.10/dist-packages (2.0.1)\n"
          ]
        }
      ],
      "source": [
        "\n",
        "!pip install pyspark py4j\n",
        "!pip install findspark\n",
        "\n",
        "# Import findspark and initialize.\n",
        "import findspark\n",
        "findspark.init()"
      ]
    },
    {
      "cell_type": "code",
      "execution_count": 32,
      "metadata": {
        "id": "2XbWNf1Te5fM"
      },
      "outputs": [],
      "source": [
        "# Import packages\n",
        "from pyspark.sql import SparkSession\n",
        "import time\n",
        "\n",
        "# Create a SparkSession\n",
        "spark = SparkSession.builder.appName(\"SparkSQL\").getOrCreate()"
      ]
    },
    {
      "cell_type": "code",
      "execution_count": 33,
      "metadata": {
        "colab": {
          "base_uri": "https://localhost:8080/"
        },
        "id": "wOJqxG_RPSwp",
        "outputId": "f6b8e799-21cc-46fd-975d-23d5bdfc1579"
      },
      "outputs": [
        {
          "output_type": "stream",
          "name": "stdout",
          "text": [
            "+--------------------+----------+----------+------+--------+---------+-----------+--------+------+----------+----+\n",
            "|                  id|      date|date_built| price|bedrooms|bathrooms|sqft_living|sqft_lot|floors|waterfront|view|\n",
            "+--------------------+----------+----------+------+--------+---------+-----------+--------+------+----------+----+\n",
            "|f8a53099-ba1c-47d...|2022-04-08|      2016|936923|       4|        3|       3167|   11733|     2|         1|  76|\n",
            "|7530a2d8-1ae3-451...|2021-06-13|      2013|379628|       2|        2|       2235|   14384|     1|         0|  23|\n",
            "|43de979c-0bf0-4c9...|2019-04-12|      2014|417866|       2|        2|       2127|   10575|     2|         0|   0|\n",
            "|b672c137-b88c-48b...|2019-10-16|      2016|239895|       2|        2|       1631|   11149|     2|         0|   0|\n",
            "|e0726d4d-d595-407...|2022-01-08|      2017|424418|       3|        2|       2249|   13878|     2|         0|   4|\n",
            "|5aa00529-0533-46b...|2019-01-30|      2017|218712|       2|        3|       1965|   14375|     2|         0|   7|\n",
            "|131492a1-72e2-4a8...|2020-02-08|      2017|419199|       2|        3|       2062|    8876|     2|         0|   6|\n",
            "|8d54a71b-c520-44e...|2019-07-21|      2010|323956|       2|        3|       1506|   11816|     1|         0|  25|\n",
            "|e81aacfe-17fe-46b...|2020-06-16|      2016|181925|       3|        3|       2137|   11709|     2|         0|  22|\n",
            "|2ed8d509-7372-46d...|2021-08-06|      2015|258710|       3|        3|       1918|    9666|     1|         0|  25|\n",
            "|f876d86f-3c9f-42b...|2019-02-27|      2011|167864|       3|        3|       2471|   13924|     2|         0|  15|\n",
            "|0a2bd445-8508-4d8...|2021-12-30|      2014|337527|       2|        3|       1926|   12556|     1|         0|  23|\n",
            "|941bad30-eb49-4a7...|2020-05-09|      2015|229896|       3|        3|       2197|    8641|     1|         0|   3|\n",
            "|dd61eb34-6589-4c0...|2021-07-25|      2016|210247|       3|        2|       1672|   11986|     2|         0|  28|\n",
            "|f1e4cef7-d151-439...|2019-02-01|      2011|398667|       2|        3|       2331|   11356|     1|         0|   7|\n",
            "|ea620c7b-c2f7-4c6...|2021-05-31|      2011|437958|       3|        3|       2356|   11052|     1|         0|  26|\n",
            "|f233cb41-6f33-4b0...|2021-07-18|      2016|437375|       4|        3|       1704|   11721|     2|         0|  34|\n",
            "|c797ca12-52cd-4b1...|2019-06-08|      2015|288650|       2|        3|       2100|   10419|     2|         0|   7|\n",
            "|0cfe57f3-28c2-472...|2019-10-04|      2015|308313|       3|        3|       1960|    9453|     2|         0|   2|\n",
            "|4566cd2a-ac6e-435...|2019-07-15|      2016|177541|       3|        3|       2130|   10517|     2|         0|  25|\n",
            "+--------------------+----------+----------+------+--------+---------+-----------+--------+------+----------+----+\n",
            "only showing top 20 rows\n",
            "\n"
          ]
        }
      ],
      "source": [
        "# 1. Read in the AWS S3 bucket into a DataFrame.\n",
        "from pyspark import SparkFiles\n",
        "url = \"https://2u-data-curriculum-team.s3.amazonaws.com/dataviz-classroom/v1.2/22-big-data/home_sales_revised.csv\"\n",
        "\n",
        "spark.sparkContext.addFile(url)\n",
        "df=spark.read.csv(SparkFiles.get(\"home_sales_revised.csv\"),sep= \",\" ,header=True, inferSchema=True)\n",
        "df.show()\n"
      ]
    },
    {
      "cell_type": "code",
      "source": [
        "df.printSchema()"
      ],
      "metadata": {
        "colab": {
          "base_uri": "https://localhost:8080/"
        },
        "id": "Sd3uztEvc_wN",
        "outputId": "3a33c0ea-f454-4dd0-d963-91d8b4b3864d"
      },
      "execution_count": 34,
      "outputs": [
        {
          "output_type": "stream",
          "name": "stdout",
          "text": [
            "root\n",
            " |-- id: string (nullable = true)\n",
            " |-- date: date (nullable = true)\n",
            " |-- date_built: integer (nullable = true)\n",
            " |-- price: integer (nullable = true)\n",
            " |-- bedrooms: integer (nullable = true)\n",
            " |-- bathrooms: integer (nullable = true)\n",
            " |-- sqft_living: integer (nullable = true)\n",
            " |-- sqft_lot: integer (nullable = true)\n",
            " |-- floors: integer (nullable = true)\n",
            " |-- waterfront: integer (nullable = true)\n",
            " |-- view: integer (nullable = true)\n",
            "\n"
          ]
        }
      ]
    },
    {
      "cell_type": "code",
      "execution_count": 35,
      "metadata": {
        "id": "RoljcJ7WPpnm"
      },
      "outputs": [],
      "source": [
        "# 2. Create a temporary view of the DataFrame.\n",
        "df.createOrReplaceTempView('home_sales')\n"
      ]
    },
    {
      "cell_type": "code",
      "execution_count": 36,
      "metadata": {
        "colab": {
          "base_uri": "https://localhost:8080/"
        },
        "id": "L6fkwOeOmqvq",
        "outputId": "ecc98891-95f1-4fe6-bfc6-40656d3a5bd1"
      },
      "outputs": [
        {
          "output_type": "stream",
          "name": "stdout",
          "text": [
            "+----+-----------------+\n",
            "|year|rounded_avg_price|\n",
            "+----+-----------------+\n",
            "|2019|         300263.7|\n",
            "|2020|        298353.78|\n",
            "|2021|        301819.44|\n",
            "|2022|        296363.88|\n",
            "+----+-----------------+\n",
            "\n"
          ]
        }
      ],
      "source": [
        "# 3. What is the average price for a four bedroom house sold per year, rounded to two decimal places?\n",
        "# Create a column with the year from the date column\n",
        "from pyspark.sql.functions import year\n",
        "import pyspark.sql.functions as f\n",
        "df = df.withColumn(\"year\",year(df['date']))\n",
        "\n",
        "#Filter to only 4 bedroom houses\n",
        "df_4br = df.filter(df['bedrooms'] == 4)\n",
        "# Calculate the average price per year for 4 bedroom houses\n",
        "averages_4br = df_4br.groupBy('year').avg()\n",
        "\n",
        "# Rename the avg(price) column to avg_price\n",
        "averages_4br = averages_4br.withColumnRenamed('avg(price)', 'avg_price')\n",
        "# create a new column with the rounded average price showing 2 decimal places\n",
        "averages_4br = averages_4br.withColumn('rounded_avg_price', f.round(f.col('avg_price'),2))\n",
        "\n",
        "averages_4br.orderBy('year').select('year','rounded_avg_price').show()\n"
      ]
    },
    {
      "cell_type": "code",
      "source": [
        "# 4. What is the average price of a home for each year the home was built,\n",
        "# that have 3 bedrooms and 3 bathrooms, rounded to two decimal places?\n",
        "\n",
        "# Filter to only 3 bedroom houses with 3 bathrooms\n",
        "df_3br_3ba = df.filter((df['bedrooms'] == 3) & (df['bathrooms'] == 3))\n",
        "\n",
        "# Calculate the average price by year built for these houses\n",
        "averages_3br_3ba = df_3br_3ba.groupBy('date_built').avg()\n",
        "\n",
        "# Rename the avg(price) column to avg_price\n",
        "averages_3br_3ba = averages_3br_3ba.withColumnRenamed('avg(price)', 'avg_price')\n",
        "\n",
        "# create a new column with the rounded average price showing 2 decimal places\n",
        "averages_3br_3ba = averages_3br_3ba.withColumn('rounded_avg_price', f.round(f.col('avg_price'),2))\n",
        "\n",
        "averages_3br_3ba.orderBy('date_built').select('date_built','rounded_avg_price').show()\n"
      ],
      "metadata": {
        "colab": {
          "base_uri": "https://localhost:8080/"
        },
        "id": "7-3af4mAmfo5",
        "outputId": "3d9730c9-3954-4354-d72d-27848e16d1f2"
      },
      "execution_count": 37,
      "outputs": [
        {
          "output_type": "stream",
          "name": "stdout",
          "text": [
            "+----------+-----------------+\n",
            "|date_built|rounded_avg_price|\n",
            "+----------+-----------------+\n",
            "|      2010|        292859.62|\n",
            "|      2011|        291117.47|\n",
            "|      2012|        293683.19|\n",
            "|      2013|        295962.27|\n",
            "|      2014|        290852.27|\n",
            "|      2015|         288770.3|\n",
            "|      2016|        290555.07|\n",
            "|      2017|        292676.79|\n",
            "+----------+-----------------+\n",
            "\n"
          ]
        }
      ]
    },
    {
      "cell_type": "code",
      "execution_count": 38,
      "metadata": {
        "colab": {
          "base_uri": "https://localhost:8080/"
        },
        "id": "Y-Eytz64liDU",
        "outputId": "25b7fdb6-5160-4bb6-d72c-1e5f141ca10f"
      },
      "outputs": [
        {
          "output_type": "stream",
          "name": "stdout",
          "text": [
            "+----------+-----------------+\n",
            "|date_built|rounded_avg_price|\n",
            "+----------+-----------------+\n",
            "|      2010|        285010.22|\n",
            "|      2011|        276553.81|\n",
            "|      2012|        307539.97|\n",
            "|      2013|        303676.79|\n",
            "|      2014|        298264.72|\n",
            "|      2015|        297609.97|\n",
            "|      2016|         293965.1|\n",
            "|      2017|        280317.58|\n",
            "+----------+-----------------+\n",
            "\n"
          ]
        }
      ],
      "source": [
        "# 5. What is the average price of a home for each year the home was built,\n",
        "# that have 3 bedrooms, 3 bathrooms, with two floors,\n",
        "# and are greater than or equal to 2,000 square feet, rounded to two decimal places?\n",
        "# Filter 3 bedroom houses with 3 bathrooms to include only 2 floors and at least 2000 sqft\n",
        "df_3br_3ba_2fl_2k = df_3br_3ba.filter((df_3br_3ba['floors'] == 2) & (df_3br_3ba['sqft_living'] >= 2000))\n",
        "\n",
        "# Calculate the average price by year built for these houses\n",
        "averages_3br_3ba_2fl_2k = df_3br_3ba_2fl_2k.groupBy('date_built').avg()\n",
        "\n",
        "# Rename the avg(price) column to avg_price\n",
        "averages_3br_3ba_2fl_2k = averages_3br_3ba_2fl_2k.withColumnRenamed('avg(price)', 'avg_price')\n",
        "\n",
        "# create a new column with the rounded average price showing 2 decimal places\n",
        "averages_3br_3ba_2fl_2k = averages_3br_3ba_2fl_2k.withColumn('rounded_avg_price', f.round(f.col('avg_price'),2))\n",
        "\n",
        "averages_3br_3ba_2fl_2k.orderBy('date_built').select('date_built','rounded_avg_price').show()\n"
      ]
    },
    {
      "cell_type": "code",
      "execution_count": 54,
      "metadata": {
        "colab": {
          "base_uri": "https://localhost:8080/"
        },
        "id": "GUrfgOX1pCRd",
        "outputId": "8794bed3-17e9-4f24-d6c5-cee1d1c69536"
      },
      "outputs": [
        {
          "output_type": "stream",
          "name": "stdout",
          "text": [
            "+-----------------+----+\n",
            "|rounded_avg_price|view|\n",
            "+-----------------+----+\n",
            "|        1026669.5| 100|\n",
            "|       1061201.42|  99|\n",
            "|       1053739.33|  98|\n",
            "|       1129040.15|  97|\n",
            "|       1017815.92|  96|\n",
            "|        1054325.6|  95|\n",
            "|        1033536.2|  94|\n",
            "|       1026006.06|  93|\n",
            "|        970402.55|  92|\n",
            "|       1137372.73|  91|\n",
            "|       1062654.16|  90|\n",
            "|       1107839.15|  89|\n",
            "|       1031719.35|  88|\n",
            "|        1072285.2|  87|\n",
            "|       1070444.25|  86|\n",
            "|       1056336.74|  85|\n",
            "|       1117233.13|  84|\n",
            "|       1033965.93|  83|\n",
            "|        1063498.0|  82|\n",
            "|       1053472.79|  81|\n",
            "+-----------------+----+\n",
            "only showing top 20 rows\n",
            "\n",
            "--- 0.6586861610412598 seconds ---\n"
          ]
        }
      ],
      "source": [
        "# 6. What is the average price of a home per \"view\" rating, rounded to two decimal places,\n",
        "# having an average home price greater than or equal to $350,000? Order by descending view rating.\n",
        "# Although this is a small dataset, determine the run time for this query.\n",
        "\n",
        "start_time = time.time()\n",
        "\n",
        "# Calculate the average price by view rating\n",
        "averages_by_view = df.groupBy('view').avg()\n",
        "\n",
        "# create a new column with the rounded average price showing 2 decimal places\n",
        "averages_by_view_rounded = averages_by_view.withColumn('rounded_avg_price', f.round(f.col('avg(price)'),2))\n",
        "\n",
        "# Filter to only houses with average price greater than or equal to $350,000\n",
        "averages_by_view_rounded= averages_by_view_rounded.filter((averages_by_view_rounded['avg(price)'] >= 350000))\n",
        "\n",
        "averages_by_view_rounded.orderBy(f.col('view').desc()).select('rounded_avg_price','view').show()\n",
        "print(\"--- %s seconds ---\" % (time.time() - start_time))"
      ]
    },
    {
      "cell_type": "code",
      "execution_count": 55,
      "metadata": {
        "id": "KAhk3ZD2tFy8"
      },
      "outputs": [],
      "source": [
        "# 7. Cache the the temporary table home_sales.\n",
        "spark.catalog.cacheTable('home_sales')"
      ]
    },
    {
      "cell_type": "code",
      "execution_count": 56,
      "metadata": {
        "colab": {
          "base_uri": "https://localhost:8080/"
        },
        "id": "4opVhbvxtL-i",
        "outputId": "0a077cf0-ba49-4daf-e21e-ea20f7afd089"
      },
      "outputs": [
        {
          "output_type": "execute_result",
          "data": {
            "text/plain": [
              "True"
            ]
          },
          "metadata": {},
          "execution_count": 56
        }
      ],
      "source": [
        "# 8. Check if the table is cached.\n",
        "spark.catalog.isCached('home_sales')"
      ]
    },
    {
      "cell_type": "code",
      "execution_count": 57,
      "metadata": {
        "colab": {
          "base_uri": "https://localhost:8080/"
        },
        "id": "5GnL46lwTSEk",
        "outputId": "7b8509e4-7357-4560-a38e-2cabd2e660b7"
      },
      "outputs": [
        {
          "output_type": "stream",
          "name": "stdout",
          "text": [
            "+-----------------+----+\n",
            "|rounded_avg_price|view|\n",
            "+-----------------+----+\n",
            "|        1026669.5| 100|\n",
            "|       1061201.42|  99|\n",
            "|       1053739.33|  98|\n",
            "|       1129040.15|  97|\n",
            "|       1017815.92|  96|\n",
            "|        1054325.6|  95|\n",
            "|        1033536.2|  94|\n",
            "|       1026006.06|  93|\n",
            "|        970402.55|  92|\n",
            "|       1137372.73|  91|\n",
            "|       1062654.16|  90|\n",
            "|       1107839.15|  89|\n",
            "|       1031719.35|  88|\n",
            "|        1072285.2|  87|\n",
            "|       1070444.25|  86|\n",
            "|       1056336.74|  85|\n",
            "|       1117233.13|  84|\n",
            "|       1033965.93|  83|\n",
            "|        1063498.0|  82|\n",
            "|       1053472.79|  81|\n",
            "+-----------------+----+\n",
            "only showing top 20 rows\n",
            "\n",
            "--- 1.7444448471069336 seconds ---\n"
          ]
        }
      ],
      "source": [
        "# 9. Using the cached data, run the last query above, that calculates\n",
        "# the average price of a home per \"view\" rating, rounded to two decimal places,\n",
        "# having an average home price greater than or equal to $350,000.\n",
        "# Determine the runtime and compare it to the uncached runtime.\n",
        "\n",
        "start_time = time.time()\n",
        "\n",
        "# Calculate the average price by view rating\n",
        "averages_by_view = df.groupBy('view').avg()\n",
        "\n",
        "# create a new column with the rounded average price showing 2 decimal places\n",
        "averages_by_view_rounded = averages_by_view.withColumn('rounded_avg_price', f.round(f.col('avg(price)'),2))\n",
        "\n",
        "# Filter to only houses with average price greater than or equal to $350,000\n",
        "averages_by_view_rounded= averages_by_view_rounded.filter((averages_by_view_rounded['avg(price)'] >= 350000))\n",
        "\n",
        "averages_by_view_rounded.orderBy(f.col('view').desc()).select('rounded_avg_price','view').show()\n",
        "\n",
        "print(\"--- %s seconds ---\" % (time.time() - start_time))\n"
      ]
    },
    {
      "cell_type": "code",
      "execution_count": null,
      "metadata": {
        "id": "Qm12WN9isHBR"
      },
      "outputs": [],
      "source": [
        "# 10. Partition by the \"date_built\" field on the formatted parquet home sales data\n"
      ]
    },
    {
      "cell_type": "code",
      "execution_count": null,
      "metadata": {
        "id": "AZ7BgY61sRqY"
      },
      "outputs": [],
      "source": [
        "# 11. Read the formatted parquet data.\n"
      ]
    },
    {
      "cell_type": "code",
      "execution_count": null,
      "metadata": {
        "id": "J6MJkHfvVcvh"
      },
      "outputs": [],
      "source": [
        "# 12. Create a temporary table for the parquet data.\n"
      ]
    },
    {
      "cell_type": "code",
      "execution_count": null,
      "metadata": {
        "id": "G_Vhb52rU1Sn"
      },
      "outputs": [],
      "source": [
        "# 13. Using the parquet DataFrame, run the last query above, that calculates\n",
        "# the average price of a home per \"view\" rating, rounded to two decimal places,\n",
        "# having an average home price greater than or equal to $350,000.\n",
        "# Determine the runtime and compare it to the cached runtime.\n",
        "\n",
        "start_time = time.time()\n",
        "\n",
        "\n",
        "\n",
        "print(\"--- %s seconds ---\" % (time.time() - start_time))"
      ]
    },
    {
      "cell_type": "code",
      "execution_count": 58,
      "metadata": {
        "colab": {
          "base_uri": "https://localhost:8080/"
        },
        "id": "hjjYzQGjtbq8",
        "outputId": "22706d02-9844-41fc-d7c1-0a0882009856"
      },
      "outputs": [
        {
          "output_type": "execute_result",
          "data": {
            "text/plain": [
              "DataFrame[]"
            ]
          },
          "metadata": {},
          "execution_count": 58
        }
      ],
      "source": [
        "# 14. Uncache the home_sales temporary table.\n",
        "spark.sql(\"uncache table home_sales\")"
      ]
    },
    {
      "cell_type": "code",
      "execution_count": 59,
      "metadata": {
        "colab": {
          "base_uri": "https://localhost:8080/"
        },
        "id": "Sy9NBvO7tlmm",
        "outputId": "86efd947-a0b1-4e98-e00b-b137253bff44"
      },
      "outputs": [
        {
          "output_type": "execute_result",
          "data": {
            "text/plain": [
              "False"
            ]
          },
          "metadata": {},
          "execution_count": 59
        }
      ],
      "source": [
        "# 15. Check if the home_sales is no longer cached\n",
        "spark.catalog.isCached(\"home_sales\")\n"
      ]
    },
    {
      "cell_type": "code",
      "execution_count": null,
      "metadata": {
        "id": "1TpAQkbLbTcE"
      },
      "outputs": [],
      "source": []
    }
  ],
  "metadata": {
    "colab": {
      "provenance": []
    },
    "kernelspec": {
      "display_name": "Python 3 (ipykernel)",
      "language": "python",
      "name": "python3"
    },
    "language_info": {
      "codemirror_mode": {
        "name": "ipython",
        "version": 3
      },
      "file_extension": ".py",
      "mimetype": "text/x-python",
      "name": "python",
      "nbconvert_exporter": "python",
      "pygments_lexer": "ipython3",
      "version": "3.10.4"
    },
    "nteract": {
      "version": "0.28.0"
    }
  },
  "nbformat": 4,
  "nbformat_minor": 0
}